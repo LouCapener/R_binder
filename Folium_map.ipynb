{
 "cells": [
  {
   "cell_type": "markdown",
   "id": "f73f5e42",
   "metadata": {},
   "source": [
    "# Guide\n",
    "\n",
    "In this notebook we will create an interactive map of the UK which displays the % of Trans men in each local authority.\n",
    "\n",
    "There are 331 local authorities in the UK, and we are using data collected in the 2021 UK Census which included 2 new questions on sexuality and gender identity.\n",
    "\n",
    "The following data used are:\n",
    "\n",
    "-   [Gender identity (detailed)](https://www.ons.gov.uk/datasets/TS070/editions/2021/versions/3) - this dataset classifies usual residents aged 16 years and over in England and Wales by gender identity.\n",
    "-   [Local Authority District Boundaries](https://geoportal.statistics.gov.uk/datasets/bb53f91cce9e4fd6b661dc0a6c734a3f_0/about) - this file contains the digital vector boundaries for Local Authority Districts in the UK as of May 2022.\n",
    "\n",
    "To create this visualisation we'll be using the Folium package that is used to create interactive leaflet maps. \n",
    "\n",
    "**NOTE:** If you're not following along with Binder, and you have your own computational environment, make sure you install the necessary packages through the command line before proceeding to import."
   ]
  },
  {
   "cell_type": "markdown",
   "id": "254d06d0",
   "metadata": {},
   "source": [
    "# Install packages\n",
    "\n",
    "Uncomment the lines below to install the packages if you're not working in Binder."
   ]
  },
  {
   "cell_type": "code",
   "execution_count": null,
   "id": "43181a60",
   "metadata": {},
   "outputs": [],
   "source": [
    "# !pip install pandas\n",
    "# !pip install geopandas\n",
    "# !pip install folium\n",
    "# !pip install branca"
   ]
  },
  {
   "cell_type": "markdown",
   "id": "4a3fd38d-ec11-4a76-918c-3ab3a54a6fd7",
   "metadata": {},
   "source": [
    "# Import packages"
   ]
  },
  {
   "cell_type": "code",
   "execution_count": null,
   "id": "331bcab7-35e9-4f7e-b815-1a6ef3f2ff9a",
   "metadata": {},
   "outputs": [],
   "source": [
    "# Allows us to read-in csv files, and used for data manipulation\n",
    "import pandas as pd\n",
    "# Used to read-in and manipulate geospatial data\n",
    "import geopandas as gpd\n",
    "# Used to create interactive maps\n",
    "import folium\n",
    "# # Provides colormap support for Folium \n",
    "# import branca.colormap as cm\n",
    "\n",
    "import os\n",
    "import requests\n",
    "import shutil\n",
    "from zipfile import ZipFile"
   ]
  },
  {
   "cell_type": "markdown",
   "id": "08e91619-bfc1-4b06-81a1-a6be62af2de6",
   "metadata": {},
   "source": [
    "# Read-in dataset"
   ]
  },
  {
   "cell_type": "code",
   "execution_count": null,
   "id": "9846220b-fad5-4005-b147-57cdc6ad57f2",
   "metadata": {},
   "outputs": [],
   "source": [
    "# First let's read in our gender identity dataset\n",
    "\n",
    "df = pd.read_csv('Data/GI_det.csv')"
   ]
  },
  {
   "cell_type": "code",
   "execution_count": null,
   "id": "0115beb1-daec-4ceb-98d9-61429238af6b",
   "metadata": {},
   "outputs": [],
   "source": [
    "# Brief glimpse of data structure\n",
    "\n",
    "df.head(10)"
   ]
  },
  {
   "cell_type": "markdown",
   "id": "54a7727a-9eb7-40e3-8f28-93a39cb3e1e0",
   "metadata": {},
   "source": [
    "# Data Cleaning\n",
    "\n",
    "Before we can calculate the %'s of trans men in each local authority, it's good to do some housekeeping and get our dataframe in order.\n",
    "\n",
    "There's a few things that need sorting including:\n",
    "\n",
    "1.  renaming columns so they are easier to reference\n",
    "2.  removing 'Does not apply' from gender identity category\n"
   ]
  },
  {
   "cell_type": "code",
   "execution_count": null,
   "id": "c10f72fc-6ef2-446b-8a8f-14d8b3568e28",
   "metadata": {},
   "outputs": [],
   "source": [
    "# Use rename function and in columns parameter specify columns to rename\n",
    "# Columns must be wrapped in a dictionary - {} i.e., the curly brackets\n",
    "\n",
    "df = df.rename(columns = {'Lower tier local authorities Code': 'LA_code', 'Lower tier local authorities': 'LA_name', 'Gender identity (8 categories) Code': 'GI_code', 'Gender identity (8 categories)': 'GI_cat'})"
   ]
  },
  {
   "cell_type": "code",
   "execution_count": null,
   "id": "67521623-bef7-48c6-b4f7-ea2359a6be99",
   "metadata": {},
   "outputs": [],
   "source": [
    "# Looks much better\n",
    "\n",
    "df.head()"
   ]
  },
  {
   "cell_type": "code",
   "execution_count": null,
   "id": "2785d923-a350-4f87-ae60-70f4b0ea4318",
   "metadata": {},
   "outputs": [],
   "source": [
    "# To get rid of the 'Does not apply' category we subset the dataframe...\n",
    "# And we use a conditional '!=' to keep everything except 'Does not apply' category\n",
    "\n",
    "df = df[df.GI_cat != 'Does not apply']"
   ]
  },
  {
   "cell_type": "code",
   "execution_count": null,
   "id": "db1e2688-0373-4ecb-bd24-a6d98f75175c",
   "metadata": {},
   "outputs": [],
   "source": [
    "# Unique function can be applied to a column in a dataframe to see which values are in that column\n",
    "# 'Does not apply' has been succesfully dropped\n",
    "\n",
    "df.GI_cat.unique()"
   ]
  },
  {
   "cell_type": "markdown",
   "id": "45c9f25d-b530-442a-a389-f421ed51efd2",
   "metadata": {},
   "source": [
    "# Data Pre-processing\n",
    "\n",
    "Now onto the more interesting stuff. The data pre-processing stage involves preparing and transforming data into a suitable format for further analysis. It can involve selecting features, transforming variables, and creating new variables. For our purposes, we need to create a new column 'Percentages' which contains the % of Trans men in each local authority.\n",
    "\n",
    "So, we'll need to first calculate the % of each gender identity category for each local authority. Then, we'll want to filter our dataset so that we only keep the responses related to Trans men."
   ]
  },
  {
   "cell_type": "code",
   "execution_count": null,
   "id": "bf590781-1bbe-4266-955f-bdf4b98def3b",
   "metadata": {},
   "outputs": [],
   "source": [
    "# Calculate percentage for each group and assign it directly to the 'Percentage' column\n",
    "# Use the .groupby() function to group the data by local authority name and number of observations for that authority\n",
    "# transform() takes a function and applies it to each group - i.e., applies lambda function to each group\n",
    "# lambda() is a one-line function and for each group it divides individual observations by the sum for that local authority\n",
    "\n",
    "df['Percentage'] = df.groupby('LA_name')['Observation'].transform(lambda x: round(x / x.sum() * 100, 2))"
   ]
  },
  {
   "cell_type": "code",
   "execution_count": null,
   "id": "f32dd79c-766f-45d6-8f58-df8d51e1c0c4",
   "metadata": {},
   "outputs": [],
   "source": [
    "# Let's check it out\n",
    "\n",
    "df.head(10)"
   ]
  },
  {
   "cell_type": "code",
   "execution_count": null,
   "id": "cbd4ae3e-9fd0-4e26-8caa-3ed54d33494b",
   "metadata": {},
   "outputs": [],
   "source": [
    "# Now we can subset the dataframe so that we only keep the %s of trans men\n",
    "\n",
    "df = df[df.GI_cat == 'Trans man'].reset_index(drop = True)"
   ]
  },
  {
   "cell_type": "code",
   "execution_count": null,
   "id": "b4007096-06da-4bdf-8dc1-b492ed911d38",
   "metadata": {},
   "outputs": [],
   "source": [
    "df.head()"
   ]
  },
  {
   "cell_type": "markdown",
   "id": "9a918d16-045f-4875-a8db-dd731e3a1613",
   "metadata": {},
   "source": [
    "# Read-in shapefile\n",
    "\n",
    "Now that we have our gender identity dataset sorted, we can start on the mapping process. And that starts with reading in our shapefile, which we should have downloaded from the geoportal. If (like me) you don't work with spatial data much, you might assume that you only need the shapefile, and you might delete the others that come with the folder. However, a shapefile is not just a single .shp file, but a collection of files that work together, and each of these files plays a crucial role in defining the shapefile's data and behaviour. When you try and read a shapefile into a coding editor, the software expects all components to be present, and missing them can lead to errors or incorrect spatial references. E.g. without the .dbf file, you'd lose all attribute data associated with the geographic features, and without the .shx file you might not be able to read the .shp file altogether. \n",
    "\n",
    "**TLDR: Make sure when you download the shapefile folder you keep all the files!**\n",
    "\n",
    "Anyway, let's get started."
   ]
  },
  {
   "cell_type": "code",
   "execution_count": null,
   "id": "065f6404-033c-42b7-96c9-8c1756e11c2d",
   "metadata": {},
   "outputs": [],
   "source": [
    "# URL for the direct download of the shapefile\n",
    "url = \"https://services1.arcgis.com/ESMARspQHYMw9BZ9/arcgis/rest/services/Local_Authority_Districts_May_2022_UK_BFE_V3_2022/FeatureServer/replicafilescache/Local_Authority_Districts_May_2022_UK_BFE_V3_2022_3331011932393166417.zip\"\n",
    "\n",
    "# Get the current working directory and construct the absolute path\n",
    "current_dir = os.getcwd()\n",
    "dest_dir = os.path.join(current_dir, \"Shapefiles\")\n",
    "dest_file = os.path.join(dest_dir, \"shapefile.zip\")\n",
    "\n",
    "# Create directory if it does not exist\n",
    "os.makedirs(dest_dir, exist_ok=True)\n",
    "\n",
    "# Download the shapefile\n",
    "response = requests.get(url, stream=True)\n",
    "if response.status_code == 200:\n",
    "    with open(dest_file, 'wb') as f:\n",
    "        f.write(response.content)\n",
    "    print(\"Download successful\")\n",
    "else:\n",
    "    print(\"Failed to download the file, status code:\", response.status_code)\n",
    "\n",
    "# Unzip the file within the destination directory\n",
    "with ZipFile(dest_file, 'r') as zip_ref:\n",
    "    zip_ref.extractall(dest_dir)\n",
    "    print(\"Files extracted to:\", dest_dir)"
   ]
  },
  {
   "cell_type": "code",
   "execution_count": null,
   "id": "6b0f3500-df98-4be0-8bbd-27d6d23db4a4",
   "metadata": {},
   "outputs": [],
   "source": [
    "# Define the path to the actual shapefile (.shp)\n",
    "\n",
    "shapefile_path = os.path.join(dest_dir, \"LAD_MAY_2022_UK_BFE_V3.shp\")\n",
    "\n",
    "# Read the shapefile using geopandas\n",
    "gdf = gpd.read_file(shapefile_path)"
   ]
  },
  {
   "cell_type": "code",
   "execution_count": null,
   "id": "0d509617-437b-4b25-b601-925b49238ba1",
   "metadata": {},
   "outputs": [],
   "source": [
    "# Let's check it out\n",
    "\n",
    "gdf.head()"
   ]
  },
  {
   "cell_type": "code",
   "execution_count": null,
   "id": "9bebf393-c361-4157-b0e2-ba52249c9562",
   "metadata": {},
   "outputs": [],
   "source": [
    "# Inspect shape\n",
    "\n",
    "gdf.shape"
   ]
  },
  {
   "cell_type": "code",
   "execution_count": null,
   "id": "103b256f-360b-45fa-a375-377f40add99d",
   "metadata": {},
   "outputs": [],
   "source": [
    "# nunique() gives us the number of unique values in a column\n",
    "\n",
    "gdf.LAD22NM.nunique()"
   ]
  },
  {
   "cell_type": "markdown",
   "id": "5ea8948e-0aaa-4b8f-830c-5ac5c82a4506",
   "metadata": {},
   "source": [
    "# Clean shapefile\n",
    "\n",
    "Hmm. We have 331 local authorities in our dataset that we want to plot, but there are 374 listed here.\n",
    "We'll need to remove the local authorities that don't match the ones in our df.\n",
    "\n",
    "* rename columns to match 'df'\n",
    "* correct some LA names\n",
    "* get rid of redundant Local Authorities"
   ]
  },
  {
   "cell_type": "code",
   "execution_count": null,
   "id": "14870451-9773-4fbc-8500-7b724fc2981d",
   "metadata": {},
   "outputs": [],
   "source": [
    "# Use rename so gdf columns match those in original df\n",
    "\n",
    "gdf = gdf.rename(columns = {'LAD22CD': 'LA_code', 'LAD22NM' : 'LA_name'})"
   ]
  },
  {
   "cell_type": "code",
   "execution_count": null,
   "id": "2a61fbb1",
   "metadata": {},
   "outputs": [],
   "source": [
    "# Let's see if it worked\n",
    "\n",
    "gdf.columns"
   ]
  },
  {
   "cell_type": "code",
   "execution_count": null,
   "id": "32a7f899-b6bf-4573-9e25-49eabab996c9",
   "metadata": {},
   "outputs": [],
   "source": [
    "# Replace specific values in the LA_name column using .replace()\n",
    "\n",
    "gdf['LA_name'] = gdf['LA_name'].replace({'Bristol, City of': 'Bristol', 'Kingston upon Hull, City of': 'Kingston upon Hull', 'Herefordshire, County of': 'Herefordshire'})"
   ]
  },
  {
   "cell_type": "code",
   "execution_count": null,
   "id": "8b198d75-c0f3-457f-ba09-7355fd8235e4",
   "metadata": {},
   "outputs": [],
   "source": [
    "# Subset the data and use .isin() to only keep local authorities that match those in df\n",
    "# Reset the index after to avoid messing it up\n",
    "\n",
    "gdf = gdf[gdf['LA_code'].isin(df.LA_code.unique())].reset_index(drop = True)"
   ]
  },
  {
   "cell_type": "code",
   "execution_count": null,
   "id": "b4e25402-73a0-4381-9d5b-fd518b829ded",
   "metadata": {},
   "outputs": [],
   "source": [
    "gdf.shape"
   ]
  },
  {
   "cell_type": "code",
   "execution_count": null,
   "id": "b3b54841-d47d-45e8-84c4-f9123f7430f5",
   "metadata": {},
   "outputs": [],
   "source": [
    "# Nice\n",
    "\n",
    "gdf.LA_code.nunique()"
   ]
  },
  {
   "cell_type": "code",
   "execution_count": null,
   "id": "fb2a4494",
   "metadata": {},
   "outputs": [],
   "source": [
    "type(gdf)"
   ]
  },
  {
   "cell_type": "markdown",
   "id": "5cf7ac80-f646-462e-b9c3-ad4b832cd4c5",
   "metadata": {},
   "source": [
    "# Pre-processing shapefile\n",
    "\n",
    "When it comes to mapping our data, it is important that we know which Coordinate Reference System (CRS) we are working with. Simply put, the CRS is a way to describe how the spatial data in the 'geodataframe' maps to locations on earth. The CRS is just a way of translating 3D reality into 2D maps. \n",
    "\n",
    "And when it comes to using mapping libraries like Folium, knowing the CRS is important because Folium expects coordinates in a specific format (usually latitude and longitude), which is EPSG:4326. If our CRS isn't in this format then we might need to transform it so that it matches what leaflet expects. Let's go ahead and see what our CRS is saying. "
   ]
  },
  {
   "cell_type": "code",
   "execution_count": null,
   "id": "b3525e55-c3f0-4416-b747-10dbcf08a142",
   "metadata": {},
   "outputs": [],
   "source": [
    "gdf.crs"
   ]
  },
  {
   "cell_type": "code",
   "execution_count": null,
   "id": "a4321904-4712-41f5-a28e-5b38d6d7a9da",
   "metadata": {},
   "outputs": [],
   "source": [
    "# Transform the GeoDataFrame to EPSG:4326 to get latitude and longitude\n",
    "gdf = gdf.to_crs(\"EPSG:4326\")"
   ]
  },
  {
   "cell_type": "code",
   "execution_count": null,
   "id": "75359c47",
   "metadata": {},
   "outputs": [],
   "source": [
    "gdf.crs"
   ]
  },
  {
   "cell_type": "markdown",
   "id": "8fb193f3-8d79-4e15-a615-632822bcda4b",
   "metadata": {},
   "source": [
    "# Merge datasets\n",
    "\n",
    "What we want to do now is merge our 'df' dataframe with our 'sf' spatial object, so that we can directly access the data and map it!\n",
    "\n",
    "When you use the merge function in Python, the order in which you place the data matters in terms of the result's class type and spatial attributes. \n",
    "So, in terms of class type, we have a dataframe and a geodataframe. By placing 'gdf' first, the result will be a geodataframe, which is important because this retains the spatial characteristics and geometry columns of the geodataframe. We merge the columns on the LA_code and LA_name columns which are present in both datasets. "
   ]
  },
  {
   "cell_type": "code",
   "execution_count": null,
   "id": "7691f245-0959-4ac9-a280-b1bfa8950411",
   "metadata": {},
   "outputs": [],
   "source": [
    "merged = pd.merge(gdf, df, on = ['LA_code', 'LA_name'], how = 'left')"
   ]
  },
  {
   "cell_type": "code",
   "execution_count": null,
   "id": "4abf49c8-f99c-4723-b7b5-f2e02a839cf4",
   "metadata": {},
   "outputs": [],
   "source": [
    "merged.head()"
   ]
  },
  {
   "cell_type": "markdown",
   "id": "c55e446c",
   "metadata": {},
   "source": [
    "# Data Analysis\n",
    "\n",
    "Finally, we can now build our interactive map using Folium. You can see from the 'geometry' column that we're working with 'MULTIPOLYGON'S' (a collection of polygons grouped together as a single geometric entitty), and 'POLYGONS'. In total we have 331 to plot, each representing a local authority. You can take a look at these separate multipolygons and polygons by using the .iloc() function and indexing the row and column (see below). "
   ]
  },
  {
   "cell_type": "code",
   "execution_count": null,
   "id": "ffde7bf3",
   "metadata": {},
   "outputs": [],
   "source": [
    "# use iloc() to select rows and columns by their position (index)\n",
    "\n",
    "gdf.geometry.iloc[0]"
   ]
  },
  {
   "cell_type": "code",
   "execution_count": null,
   "id": "e03f18e7",
   "metadata": {},
   "outputs": [],
   "source": [
    "gdf.geometry.iloc[30]"
   ]
  },
  {
   "cell_type": "markdown",
   "id": "68ada72c-f881-4a9b-864f-768c60104243",
   "metadata": {},
   "source": [
    "## Building our interactive map\n",
    "\n",
    "This approach has been adapted from GitHub user 'vverde' who has a brilliant guide to plotting with Python and Folium.\n",
    "Link available here: \n",
    "https://vverde.github.io/blob/interactivechoropleth.html\n",
    "\n",
    "\n",
    "## Step 1: Centering the map\n",
    "\n",
    "The first thing we need to do is provide some coordinates so we can center our map on the UK.\n",
    "Chat-GPT advised me that a commonly used central point for the UK is latitude 54.7, longitude -3.0. "
   ]
  },
  {
   "cell_type": "code",
   "execution_count": null,
   "id": "f29c4e3f-0f59-4ebe-9f8d-24b4f0f793b3",
   "metadata": {},
   "outputs": [],
   "source": [
    "# Define variables for latitude and longitude for the center of the UK\n",
    "\n",
    "lat = 54.7\n",
    "lon = -3.0"
   ]
  },
  {
   "cell_type": "markdown",
   "id": "d2870bee-e46c-4162-bb87-a36b745d8fc4",
   "metadata": {},
   "source": [
    "# Step 2: Initialise the map\n",
    "\n",
    "When creating a Map in Folium, you generally specify which map tile you'd like to use, and theres a ton to choose from including:\n",
    "\n",
    "* OpenStreetMap\n",
    "* CartoDB\n",
    "* Mapbox \n",
    "\n",
    "But, we're going to break convention and set our tiles to None. According to 'vverde', if we set a tile when we initialise the map, we are then unable to hide it from the LayerControl, which is what we want to achieve later on."
   ]
  },
  {
   "cell_type": "code",
   "execution_count": null,
   "id": "5665913d-dcc1-42ac-a9e5-73ebd1aba1b2",
   "metadata": {},
   "outputs": [],
   "source": [
    "# Initialise map by specifying location and how zoomed in you want it to be\n",
    "# Tiles will be set to None\n",
    "\n",
    "uk_map = folium.Map(location=[lat, lon], zoom_start=6, tiles = None)"
   ]
  },
  {
   "cell_type": "code",
   "execution_count": null,
   "id": "2a39326c-fda4-414b-a689-8a94ab98f535",
   "metadata": {},
   "outputs": [],
   "source": [
    "# Yep. Trust the process, we're going to add a Tile layer in the cell below.\n",
    "\n",
    "uk_map"
   ]
  },
  {
   "cell_type": "code",
   "execution_count": null,
   "id": "02d48747-e111-4a46-b71b-ce90ccf2c49b",
   "metadata": {},
   "outputs": [],
   "source": [
    "# We're now going to add a layer of tiles over our map - in this case CartoDB positron\n",
    "# We assign the name 'Light map' to our tile layer\n",
    "# Control is set to False as we don't want users to be able to toggle the visibility of this layer\n",
    "\n",
    "folium.TileLayer('CartoDB positron',name=\"Light Map\",control=False).add_to(uk_map)\n",
    "\n",
    "uk_map"
   ]
  },
  {
   "cell_type": "markdown",
   "id": "595ba934-299f-44d8-9c70-7c4d6ea5b965",
   "metadata": {},
   "source": [
    "## Step 3: Draw choropleth\n",
    "\n",
    "Now that we've set up our map with our base CartoDB positron tiles, we can now use Folium's choropleth function to plot our geometries onto the uk_map. The function below has a lot of parameters that we need to specify, including:\n",
    "\n",
    "* geo_data = this refers to the GeoDataFrame which contains the geographic boundaries of each local authority.\n",
    "* name = sets the name for this layer which we're placing on top of our base layer\n",
    "* data = refers to the dataframe that contains the statistical data we'd like to plot\n",
    "* columns = specifies the columns in our dataframe that Folium will use to match the geographic areas to their corresponding data values.\n",
    "* key_on = tells Folium how to match the data in 'columns' with the geographic areas in geo_data. 'feature.properties.LA_code' indicates that Folium should look for a property named 'LA_code' in the GeoJSON representation of each area.\n",
    "\n",
    "### ...What's a GeoJSON?\n",
    "\n",
    "When we pass our GeoDataFrame to Folium (for example, as the geo_data parameter in the choropleth method), Folium internally converts this geographic information into GeoJSON. A GeoJSON is a format for encoding geographic data structures using JSON (JavaScript Object Notation). This conversion allows Folium to understand and render the geographic data on the map. \n",
    "\n",
    "Okay, let's look at the last few parameters:\n",
    "\n",
    "* fill_color = sets the colour scheme, in our case 'YIGnBu' stands for Yellow-Green-Blue, which is a nice gradient for low to high values.\n",
    "* fill_opacity and line_opacity = sets opacity of the area fill and boundary lines\n",
    "* legend_name = labels the legend with string value\n",
    "* smooth_factor = when this value is incremented it smooths the boundaries for each geographic shape, which can improve map loading and visual clarity"
   ]
  },
  {
   "cell_type": "code",
   "execution_count": null,
   "id": "8fdc0881-b25b-4228-a84b-42073c5df4e0",
   "metadata": {},
   "outputs": [],
   "source": [
    "folium.Choropleth(\n",
    " geo_data=merged,\n",
    " name='Choropleth',\n",
    " data=merged,\n",
    " columns=['LA_code','Percentage'],\n",
    " key_on=\"feature.properties.LA_code\",\n",
    " fill_color='YlGnBu',\n",
    " fill_opacity=1,\n",
    " line_opacity=0.2,\n",
    " legend_name='% of Trans men',\n",
    " smooth_factor=0\n",
    ").add_to(uk_map)"
   ]
  },
  {
   "cell_type": "code",
   "execution_count": null,
   "id": "74297317",
   "metadata": {},
   "outputs": [],
   "source": [
    "uk_map"
   ]
  },
  {
   "cell_type": "markdown",
   "id": "d2e3e3fa-bfca-41e5-99d8-4e7f23ac7e46",
   "metadata": {},
   "source": [
    "## Step 4: Add interactive elements\n",
    "\n",
    "The following code adds interactivity to the map with custom styling for the map's features and tooltips which display specific information about a local authrotiy when a user scrolls over it."
   ]
  },
  {
   "cell_type": "code",
   "execution_count": null,
   "id": "26ae9b6b-b738-4a3c-be95-140528605188",
   "metadata": {},
   "outputs": [],
   "source": [
    "# Use anonymous lambda functions to define how each geographic area should be styled \n",
    "\n",
    "# this function defines how each area should be defined normally - i.e. when not being highlighted\n",
    "# fillColor - fills areas with white colour, whilst  colour sets the border colour to black\n",
    "# fillOpacity - defines how transparant the colour is\n",
    "# weight - sets border thickness\n",
    "\n",
    "style_function = lambda x: {'fillColor': '#ffffff', \n",
    "                            'color':'#000000', \n",
    "                            'fillOpacity': 0.1, \n",
    "                            'weight': 0.1}\n",
    "\n",
    "# this function defines how each area should appear when highlighted with mouse\n",
    "\n",
    "highlight_function = lambda x: {'fillColor': '#000000', \n",
    "                                'color':'#000000', \n",
    "                                'fillOpacity': 0.50, \n",
    "                                'weight': 0.1}"
   ]
  },
  {
   "cell_type": "markdown",
   "id": "934abd54-548b-415e-a8e1-b1fe93f0b8c4",
   "metadata": {},
   "source": [
    "The code below creates a GeoJson layer for the map, which allows us to add geographic data from our 'merged' GeoDataFrame with the specified styles and interactive features. Let's go through these parameters step by step:\n",
    "\n",
    "* merged - specifies the GeoDataFrame containing the geographic data and attributes\n",
    "* style_function = applies the styling to each geographic area, so border colour etc\n",
    "* control = specifies that this layer shouldn't have a toggle option\n",
    "* highlight_function = applies highlighting style when user hovers over area with mouse\n",
    "* tooltip = defines a tooltip with relevant data that will be shown when user hovers over area"
   ]
  },
  {
   "cell_type": "code",
   "execution_count": null,
   "id": "e573a600-5adb-48f3-9c14-037498465999",
   "metadata": {},
   "outputs": [],
   "source": [
    "features = folium.features.GeoJson(\n",
    "    merged,\n",
    "    style_function=style_function, \n",
    "    control=False,\n",
    "    highlight_function=highlight_function, \n",
    "    tooltip=folium.features.GeoJsonTooltip(\n",
    "        fields=['LA_name','Percentage'],\n",
    "        aliases=['LA name: ','% of Trans men: '],\n",
    "        style=(\"background-color: white; color: #333333; font-family: arial; font-size: 12px; padding: 10px;\") \n",
    "    )\n",
    ")"
   ]
  },
  {
   "cell_type": "code",
   "execution_count": null,
   "id": "8228f8ee-bd5a-4eb6-bc4b-f0a429d63f64",
   "metadata": {},
   "outputs": [],
   "source": [
    "# Use add_child function to add interactivee layer to uk_map\n",
    "\n",
    "uk_map.add_child(features)\n",
    "\n",
    "# Adds a layer control widget to the map, allowing users to toggle the visibility of different layers\n",
    "# So, if we set control = True, we can toggle our layers\n",
    "\n",
    "folium.LayerControl().add_to(uk_map)\n"
   ]
  },
  {
   "cell_type": "code",
   "execution_count": null,
   "id": "b2a21b66-147e-4a32-a521-20d81c7b96da",
   "metadata": {},
   "outputs": [],
   "source": [
    "uk_map"
   ]
  },
  {
   "cell_type": "code",
   "execution_count": null,
   "id": "6a2e310a",
   "metadata": {},
   "outputs": [],
   "source": [
    "# Get HTML representation of the map\n",
    "map_html = uk_map._repr_html_()\n",
    "\n",
    "# Save the HTML to a file (which you can manually copy to your markdown file later)\n",
    "with open(\"Data/map.html\", \"w\") as file:\n",
    "    file.write(map_html)"
   ]
  },
  {
   "cell_type": "code",
   "execution_count": null,
   "id": "81d797c6",
   "metadata": {},
   "outputs": [],
   "source": [
    "uk_map.save(\"Data/map2.html\")"
   ]
  },
  {
   "cell_type": "markdown",
   "id": "25d0fb31-2d33-4dab-ad67-b4d244c3e7ff",
   "metadata": {},
   "source": [
    "# Host map remotely"
   ]
  }
 ],
 "metadata": {
  "kernelspec": {
   "display_name": "Python (py312)",
   "language": "python",
   "name": "py312"
  },
  "language_info": {
   "codemirror_mode": {
    "name": "ipython",
    "version": 3
   },
   "file_extension": ".py",
   "mimetype": "text/x-python",
   "name": "python",
   "nbconvert_exporter": "python",
   "pygments_lexer": "ipython3",
   "version": "3.11.8"
  },
  "toc": {
   "base_numbering": 1,
   "nav_menu": {},
   "number_sections": true,
   "sideBar": true,
   "skip_h1_title": false,
   "title_cell": "Table of Contents",
   "title_sidebar": "Contents",
   "toc_cell": false,
   "toc_position": {},
   "toc_section_display": true,
   "toc_window_display": true
  },
  "varInspector": {
   "cols": {
    "lenName": 16,
    "lenType": 16,
    "lenVar": 40
   },
   "kernels_config": {
    "python": {
     "delete_cmd_postfix": "",
     "delete_cmd_prefix": "del ",
     "library": "var_list.py",
     "varRefreshCmd": "print(var_dic_list())"
    },
    "r": {
     "delete_cmd_postfix": ") ",
     "delete_cmd_prefix": "rm(",
     "library": "var_list.r",
     "varRefreshCmd": "cat(var_dic_list()) "
    }
   },
   "types_to_exclude": [
    "module",
    "function",
    "builtin_function_or_method",
    "instance",
    "_Feature"
   ],
   "window_display": false
  },
  "vscode": {
   "interpreter": {
    "hash": "aee8b7b246df8f9039afb4144a1f6fd8d2ca17a180786b69acc140d282b71a49"
   }
  }
 },
 "nbformat": 4,
 "nbformat_minor": 5
}
